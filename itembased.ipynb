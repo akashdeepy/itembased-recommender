{
 "cells": [
  {
   "cell_type": "code",
   "execution_count": 1,
   "metadata": {
    "collapsed": true
   },
   "outputs": [],
   "source": [
    "import pandas as pd\n",
    "import numpy as np\n",
    "from scipy.sparse import csr_matrix"
   ]
  },
  {
   "cell_type": "code",
   "execution_count": 2,
   "metadata": {
    "collapsed": true
   },
   "outputs": [],
   "source": [
    "pd.set_option('display.float_format', lambda x: '%.3f' % x)"
   ]
  },
  {
   "cell_type": "code",
   "execution_count": 3,
   "metadata": {
    "collapsed": true
   },
   "outputs": [],
   "source": [
    "user_data = pd.read_table('C:/Users/Viyatra/Desktop/recommend_itembased/packagedata/productlist.tsv',\n",
    "                          header = None, nrows = 2e7,\n",
    "                          names = ['users', 'productid', 'packagename', 'totalvisits'],\n",
    "                          usecols = ['users', 'packagename', 'totalvisits'])"
   ]
  },
  {
   "cell_type": "code",
   "execution_count": 4,
   "metadata": {
    "collapsed": true
   },
   "outputs": [],
   "source": [
    "user_profiles = pd.read_table('C:/Users/Viyatra/Desktop/recommend_itembased/packagedata/userlist.tsv',\n",
    "                          header = None,\n",
    "                          names = ['users', 'gender', 'age', 'country', 'signup'],\n",
    "                          usecols = ['users', 'country'])"
   ]
  },
  {
   "cell_type": "code",
   "execution_count": 5,
   "metadata": {},
   "outputs": [
    {
     "data": {
      "text/html": [
       "<div>\n",
       "<style>\n",
       "    .dataframe thead tr:only-child th {\n",
       "        text-align: right;\n",
       "    }\n",
       "\n",
       "    .dataframe thead th {\n",
       "        text-align: left;\n",
       "    }\n",
       "\n",
       "    .dataframe tbody tr th {\n",
       "        vertical-align: top;\n",
       "    }\n",
       "</style>\n",
       "<table border=\"1\" class=\"dataframe\">\n",
       "  <thead>\n",
       "    <tr style=\"text-align: right;\">\n",
       "      <th></th>\n",
       "      <th>users</th>\n",
       "      <th>country</th>\n",
       "    </tr>\n",
       "  </thead>\n",
       "  <tbody>\n",
       "    <tr>\n",
       "      <th>0</th>\n",
       "      <td>00000c289a1829a808ac09c00daf10bc3c4e223b</td>\n",
       "      <td>Germany</td>\n",
       "    </tr>\n",
       "    <tr>\n",
       "      <th>1</th>\n",
       "      <td>00001411dc427966b17297bf4d69e7e193135d89</td>\n",
       "      <td>Canada</td>\n",
       "    </tr>\n",
       "    <tr>\n",
       "      <th>2</th>\n",
       "      <td>00004d2ac9316e22dc007ab2243d6fcb239e707d</td>\n",
       "      <td>Germany</td>\n",
       "    </tr>\n",
       "    <tr>\n",
       "      <th>3</th>\n",
       "      <td>000063d3fe1cf2ba248b9e3c3f0334845a27a6bf</td>\n",
       "      <td>Mexico</td>\n",
       "    </tr>\n",
       "    <tr>\n",
       "      <th>4</th>\n",
       "      <td>00007a47085b9aab8af55f52ec8846ac479ac4fe</td>\n",
       "      <td>United States</td>\n",
       "    </tr>\n",
       "  </tbody>\n",
       "</table>\n",
       "</div>"
      ],
      "text/plain": [
       "                                      users        country\n",
       "0  00000c289a1829a808ac09c00daf10bc3c4e223b        Germany\n",
       "1  00001411dc427966b17297bf4d69e7e193135d89         Canada\n",
       "2  00004d2ac9316e22dc007ab2243d6fcb239e707d        Germany\n",
       "3  000063d3fe1cf2ba248b9e3c3f0334845a27a6bf         Mexico\n",
       "4  00007a47085b9aab8af55f52ec8846ac479ac4fe  United States"
      ]
     },
     "execution_count": 5,
     "metadata": {},
     "output_type": "execute_result"
    }
   ],
   "source": [
    "user_data.head()\n",
    "user_profiles.head()"
   ]
  },
  {
   "cell_type": "code",
   "execution_count": 6,
   "metadata": {},
   "outputs": [
    {
     "data": {
      "text/html": [
       "<div>\n",
       "<style>\n",
       "    .dataframe thead tr:only-child th {\n",
       "        text-align: right;\n",
       "    }\n",
       "\n",
       "    .dataframe thead th {\n",
       "        text-align: left;\n",
       "    }\n",
       "\n",
       "    .dataframe tbody tr th {\n",
       "        vertical-align: top;\n",
       "    }\n",
       "</style>\n",
       "<table border=\"1\" class=\"dataframe\">\n",
       "  <thead>\n",
       "    <tr style=\"text-align: right;\">\n",
       "      <th></th>\n",
       "      <th>packagename</th>\n",
       "      <th>total_packagevisits</th>\n",
       "    </tr>\n",
       "  </thead>\n",
       "  <tbody>\n",
       "    <tr>\n",
       "      <th>0</th>\n",
       "      <td>cours de la somme</td>\n",
       "      <td>9</td>\n",
       "    </tr>\n",
       "    <tr>\n",
       "      <th>1</th>\n",
       "      <td>oliver shanti &amp; friends</td>\n",
       "      <td>3</td>\n",
       "    </tr>\n",
       "    <tr>\n",
       "      <th>2</th>\n",
       "      <td>!!!</td>\n",
       "      <td>19814</td>\n",
       "    </tr>\n",
       "    <tr>\n",
       "      <th>3</th>\n",
       "      <td>!5:b&gt;@ 3070</td>\n",
       "      <td>33</td>\n",
       "    </tr>\n",
       "    <tr>\n",
       "      <th>4</th>\n",
       "      <td>!action pact!</td>\n",
       "      <td>143</td>\n",
       "    </tr>\n",
       "  </tbody>\n",
       "</table>\n",
       "</div>"
      ],
      "text/plain": [
       "                packagename  total_packagevisits\n",
       "0         cours de la somme                    9\n",
       "1   oliver shanti & friends                    3\n",
       "2                       !!!                19814\n",
       "3               !5:b>@ 3070                   33\n",
       "4             !action pact!                  143"
      ]
     },
     "execution_count": 6,
     "metadata": {},
     "output_type": "execute_result"
    }
   ],
   "source": [
    "if user_data['packagename'].isnull().sum() > 0:\n",
    "    user_data = user_data.dropna(axis = 0, subset = ['packagename'])\n",
    "\n",
    "totalpackagevisit = (user_data.\n",
    "        groupby(by=['packagename'])['totalvisits'].\n",
    "        sum().\n",
    "        reset_index().\n",
    "        rename(columns={'totalvisits': 'total_packagevisits'})\n",
    "    [['packagename', 'total_packagevisits']]\n",
    "        )\n",
    "totalpackagevisit.head()"
   ]
  },
  {
   "cell_type": "code",
   "execution_count": 7,
   "metadata": {},
   "outputs": [
    {
     "name": "stdout",
     "output_type": "stream",
     "text": [
      "count     82093.000\n",
      "mean       2775.286\n",
      "std       21123.336\n",
      "min           1.000\n",
      "25%          48.000\n",
      "50%         180.000\n",
      "75%         724.000\n",
      "max     1896944.000\n",
      "Name: total_packagevisits, dtype: float64\n",
      "0.900    3096.000\n",
      "0.910    3619.160\n",
      "0.920    4240.640\n",
      "0.930    5076.560\n",
      "0.940    6289.440\n",
      "0.950    7929.000\n",
      "0.960   10405.920\n",
      "0.970   14858.000\n",
      "0.980   23363.920\n",
      "0.990   50182.200\n",
      "Name: total_packagevisits, dtype: float64\n"
     ]
    }
   ],
   "source": [
    "user_data_with_packagevisits = user_data.merge(totalpackagevisit, left_on='packagename', right_on='packagename', how='left')\n",
    "user_data_with_packagevisits.head()\n",
    "\n",
    "print (totalpackagevisit['total_packagevisits'].describe())\n",
    "print (totalpackagevisit['total_packagevisits'].quantile(np.arange(.9, 1, .01)))"
   ]
  },
  {
   "cell_type": "code",
   "execution_count": 8,
   "metadata": {},
   "outputs": [
    {
     "data": {
      "text/html": [
       "<div>\n",
       "<style>\n",
       "    .dataframe thead tr:only-child th {\n",
       "        text-align: right;\n",
       "    }\n",
       "\n",
       "    .dataframe thead th {\n",
       "        text-align: left;\n",
       "    }\n",
       "\n",
       "    .dataframe tbody tr th {\n",
       "        vertical-align: top;\n",
       "    }\n",
       "</style>\n",
       "<table border=\"1\" class=\"dataframe\">\n",
       "  <thead>\n",
       "    <tr style=\"text-align: right;\">\n",
       "      <th></th>\n",
       "      <th>users</th>\n",
       "      <th>packagename</th>\n",
       "      <th>totalvisits</th>\n",
       "      <th>total_packagevisits</th>\n",
       "    </tr>\n",
       "  </thead>\n",
       "  <tbody>\n",
       "    <tr>\n",
       "      <th>0</th>\n",
       "      <td>00000c289a1829a808ac09c00daf10bc3c4e223b</td>\n",
       "      <td>betty blowtorch</td>\n",
       "      <td>2137</td>\n",
       "      <td>4242</td>\n",
       "    </tr>\n",
       "    <tr>\n",
       "      <th>1</th>\n",
       "      <td>00000c289a1829a808ac09c00daf10bc3c4e223b</td>\n",
       "      <td>die Ärzte</td>\n",
       "      <td>1099</td>\n",
       "      <td>189681</td>\n",
       "    </tr>\n",
       "    <tr>\n",
       "      <th>2</th>\n",
       "      <td>00000c289a1829a808ac09c00daf10bc3c4e223b</td>\n",
       "      <td>melissa etheridge</td>\n",
       "      <td>897</td>\n",
       "      <td>12232</td>\n",
       "    </tr>\n",
       "    <tr>\n",
       "      <th>3</th>\n",
       "      <td>00000c289a1829a808ac09c00daf10bc3c4e223b</td>\n",
       "      <td>elvenking</td>\n",
       "      <td>717</td>\n",
       "      <td>22405</td>\n",
       "    </tr>\n",
       "    <tr>\n",
       "      <th>4</th>\n",
       "      <td>00000c289a1829a808ac09c00daf10bc3c4e223b</td>\n",
       "      <td>juliette &amp; the licks</td>\n",
       "      <td>706</td>\n",
       "      <td>7043</td>\n",
       "    </tr>\n",
       "  </tbody>\n",
       "</table>\n",
       "</div>"
      ],
      "text/plain": [
       "                                      users           packagename  \\\n",
       "0  00000c289a1829a808ac09c00daf10bc3c4e223b       betty blowtorch   \n",
       "1  00000c289a1829a808ac09c00daf10bc3c4e223b             die Ärzte   \n",
       "2  00000c289a1829a808ac09c00daf10bc3c4e223b     melissa etheridge   \n",
       "3  00000c289a1829a808ac09c00daf10bc3c4e223b             elvenking   \n",
       "4  00000c289a1829a808ac09c00daf10bc3c4e223b  juliette & the licks   \n",
       "\n",
       "   totalvisits  total_packagevisits  \n",
       "0         2137                 4242  \n",
       "1         1099               189681  \n",
       "2          897                12232  \n",
       "3          717                22405  \n",
       "4          706                 7043  "
      ]
     },
     "execution_count": 8,
     "metadata": {},
     "output_type": "execute_result"
    }
   ],
   "source": [
    "popularity_threshold = 4000\n",
    "user_data_popular_package = user_data_with_packagevisits.query('total_packagevisits >= @popularity_threshold')\n",
    "user_data_popular_package.head()"
   ]
  },
  {
   "cell_type": "code",
   "execution_count": 9,
   "metadata": {},
   "outputs": [
    {
     "data": {
      "text/html": [
       "<div>\n",
       "<style>\n",
       "    .dataframe thead tr:only-child th {\n",
       "        text-align: right;\n",
       "    }\n",
       "\n",
       "    .dataframe thead th {\n",
       "        text-align: left;\n",
       "    }\n",
       "\n",
       "    .dataframe tbody tr th {\n",
       "        vertical-align: top;\n",
       "    }\n",
       "</style>\n",
       "<table border=\"1\" class=\"dataframe\">\n",
       "  <thead>\n",
       "    <tr style=\"text-align: right;\">\n",
       "      <th></th>\n",
       "      <th>users</th>\n",
       "      <th>packagename</th>\n",
       "      <th>totalvisits</th>\n",
       "      <th>total_packagevisits</th>\n",
       "      <th>country</th>\n",
       "    </tr>\n",
       "  </thead>\n",
       "  <tbody>\n",
       "    <tr>\n",
       "      <th>148</th>\n",
       "      <td>00007a47085b9aab8af55f52ec8846ac479ac4fe</td>\n",
       "      <td>devendra banhart</td>\n",
       "      <td>456</td>\n",
       "      <td>149168</td>\n",
       "      <td>United States</td>\n",
       "    </tr>\n",
       "    <tr>\n",
       "      <th>149</th>\n",
       "      <td>00007a47085b9aab8af55f52ec8846ac479ac4fe</td>\n",
       "      <td>boards of canada</td>\n",
       "      <td>407</td>\n",
       "      <td>360138</td>\n",
       "      <td>United States</td>\n",
       "    </tr>\n",
       "    <tr>\n",
       "      <th>150</th>\n",
       "      <td>00007a47085b9aab8af55f52ec8846ac479ac4fe</td>\n",
       "      <td>cocorosie</td>\n",
       "      <td>386</td>\n",
       "      <td>157346</td>\n",
       "      <td>United States</td>\n",
       "    </tr>\n",
       "    <tr>\n",
       "      <th>151</th>\n",
       "      <td>00007a47085b9aab8af55f52ec8846ac479ac4fe</td>\n",
       "      <td>aphex twin</td>\n",
       "      <td>213</td>\n",
       "      <td>252034</td>\n",
       "      <td>United States</td>\n",
       "    </tr>\n",
       "    <tr>\n",
       "      <th>152</th>\n",
       "      <td>00007a47085b9aab8af55f52ec8846ac479ac4fe</td>\n",
       "      <td>animal collective</td>\n",
       "      <td>203</td>\n",
       "      <td>207603</td>\n",
       "      <td>United States</td>\n",
       "    </tr>\n",
       "  </tbody>\n",
       "</table>\n",
       "</div>"
      ],
      "text/plain": [
       "                                        users        packagename  totalvisits  \\\n",
       "148  00007a47085b9aab8af55f52ec8846ac479ac4fe   devendra banhart          456   \n",
       "149  00007a47085b9aab8af55f52ec8846ac479ac4fe   boards of canada          407   \n",
       "150  00007a47085b9aab8af55f52ec8846ac479ac4fe          cocorosie          386   \n",
       "151  00007a47085b9aab8af55f52ec8846ac479ac4fe         aphex twin          213   \n",
       "152  00007a47085b9aab8af55f52ec8846ac479ac4fe  animal collective          203   \n",
       "\n",
       "     total_packagevisits        country  \n",
       "148               149168  United States  \n",
       "149               360138  United States  \n",
       "150               157346  United States  \n",
       "151               252034  United States  \n",
       "152               207603  United States  "
      ]
     },
     "execution_count": 9,
     "metadata": {},
     "output_type": "execute_result"
    }
   ],
   "source": [
    "combined = user_data_popular_package.merge(user_profiles, left_on = 'users', right_on = 'users', how = 'left')\n",
    "usa_data = combined.query('country == \\'United States\\'')\n",
    "usa_data.head()"
   ]
  },
  {
   "cell_type": "code",
   "execution_count": 10,
   "metadata": {},
   "outputs": [
    {
     "name": "stdout",
     "output_type": "stream",
     "text": [
      "Initial dataframe shape (156348, 5)\n",
      "New dataframe shape (156347, 5)\n",
      "Removed 1 rows\n"
     ]
    }
   ],
   "source": [
    "if not usa_data[usa_data.duplicated(['users', 'packagename'])].empty:\n",
    "    initial_rows = usa_data.shape[0]\n",
    "\n",
    "    print ('Initial dataframe shape {0}'.format(usa_data.shape))\n",
    "    usa_data = usa_data.drop_duplicates(['users', 'packagename'])\n",
    "    current_rows = usa_data.shape[0]\n",
    "    print ('New dataframe shape {0}'.format(usa_data.shape))\n",
    "    print ('Removed {0} rows'.format(initial_rows - current_rows))"
   ]
  },
  {
   "cell_type": "markdown",
   "metadata": {},
   "source": [
    "# implementing the Nearest neighbour#"
   ]
  },
  {
   "cell_type": "code",
   "execution_count": 11,
   "metadata": {},
   "outputs": [
    {
     "data": {
      "text/plain": [
       "NearestNeighbors(algorithm='brute', leaf_size=30, metric='cosine',\n",
       "         metric_params=None, n_jobs=1, n_neighbors=5, p=2, radius=1.0)"
      ]
     },
     "execution_count": 11,
     "metadata": {},
     "output_type": "execute_result"
    }
   ],
   "source": [
    "wide_package_data = usa_data.pivot(index = 'packagename', columns = 'users', values = 'totalvisits').fillna(0)\n",
    "wide_package_data_sparse = csr_matrix(wide_package_data.values)\n",
    "\n",
    "from sklearn.neighbors import NearestNeighbors\n",
    "\n",
    "model_knn = NearestNeighbors(metric = 'cosine', algorithm = 'brute')\n",
    "model_knn.fit(wide_package_data_sparse)"
   ]
  },
  {
   "cell_type": "markdown",
   "metadata": {},
   "source": [
    "# Making Recommendation#"
   ]
  },
  {
   "cell_type": "code",
   "execution_count": 36,
   "metadata": {},
   "outputs": [
    {
     "name": "stdout",
     "output_type": "stream",
     "text": [
      "Recommendations for the teenagers:\n",
      "\n",
      "1: those dancing days, with distance of 0.7054465899233704:\n",
      "2: esg, with distance of 0.7586023005297466:\n",
      "3: scarlett johansson, with distance of 0.7971057301114011:\n",
      "4: itzhak perlman, with distance of 0.8229065050437651:\n",
      "5: the knife, with distance of 0.8288652059235249:\n"
     ]
    }
   ],
   "source": [
    "query_index = np.random.choice(wide_package_data.shape[0])\n",
    "distances, indices = model_knn.kneighbors(wide_package_data.iloc[query_index, :].values.reshape(1, -1), n_neighbors = 6)\n",
    "\n",
    "for i in range(0, len(distances.flatten())):\n",
    "    if i == 0:\n",
    "        print ('Recommendations for {0}:\\n'.format(wide_package_data.index[query_index]))\n",
    "    else:\n",
    "        print ('{0}: {1}, with distance of {2}:'.format(i, wide_package_data.index[indices.flatten()[i]], distances.flatten()[i]))"
   ]
  },
  {
   "cell_type": "code",
   "execution_count": null,
   "metadata": {
    "collapsed": true
   },
   "outputs": [],
   "source": []
  }
 ],
 "metadata": {
  "kernelspec": {
   "display_name": "Python 3",
   "language": "python",
   "name": "python3"
  },
  "language_info": {
   "codemirror_mode": {
    "name": "ipython",
    "version": 3
   },
   "file_extension": ".py",
   "mimetype": "text/x-python",
   "name": "python",
   "nbconvert_exporter": "python",
   "pygments_lexer": "ipython3",
   "version": "3.6.3"
  }
 },
 "nbformat": 4,
 "nbformat_minor": 2
}
